{
  "nbformat": 4,
  "nbformat_minor": 0,
  "metadata": {
    "colab": {
      "provenance": [],
      "authorship_tag": "ABX9TyMi/2N1rqQKyPKe0ow9dGfb",
      "include_colab_link": true
    },
    "kernelspec": {
      "name": "python3",
      "display_name": "Python 3"
    },
    "language_info": {
      "name": "python"
    }
  },
  "cells": [
    {
      "cell_type": "markdown",
      "metadata": {
        "id": "view-in-github",
        "colab_type": "text"
      },
      "source": [
        "<a href=\"https://colab.research.google.com/github/anhntb/AI/blob/main/BT_diemcong.ipynb\" target=\"_parent\"><img src=\"https://colab.research.google.com/assets/colab-badge.svg\" alt=\"Open In Colab\"/></a>"
      ]
    },
    {
      "cell_type": "markdown",
      "source": [
        "Implement and Visualize: 6 Kernel Functions\n",
        "\n",
        "I(x) = 1, -1 <= x <= 1 or  = 0, rỗng\n",
        "\n",
        "**6 Kernel**\n",
        "\n",
        "1.   \n",
        "2.   List item\n",
        "\n"
      ],
      "metadata": {
        "id": "MVkf4sKj_Cr7"
      }
    },
    {
      "cell_type": "code",
      "execution_count": null,
      "metadata": {
        "id": "D7qn3cJP7VUx"
      },
      "outputs": [],
      "source": []
    }
  ]
}